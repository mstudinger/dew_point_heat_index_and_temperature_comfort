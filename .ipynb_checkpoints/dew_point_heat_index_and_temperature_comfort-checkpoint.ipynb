{
 "cells": [
  {
   "cell_type": "markdown",
   "id": "19b33960-1b8e-44a8-8261-dd0d63c4eaa4",
   "metadata": {},
   "source": [
    "# <div align=\"center\">Dew Point and Thermal Comfort</div>\n",
    "This notebook is a __compilation of publicly available information__ and open access scientific articles __related to human thermal comfort__ in hot and humid conditions. The Python™ code developed for this notebook calculates the dew point for local conditions and determines the categories of human thermal comfort assigned to these parameters.\n",
    "\n",
    "**Summary:** A __figure__ at the end of this notebook (Step 6) showing the relationship between dew point, air temperature, and relative humidity with comfort categories.\n",
    "\n",
    "---\n",
    "\n",
    "## <div align=\"center\">Calculation of the dew point as a function of air temperature and relative humidity</div>\n",
    "The __dew point is often used as an indicator for thermal comfort__ of humans, however, thermal comfort depends on many factors [(e.g., Wikipedia and references therein)](https://en.wikipedia.org/wiki/Thermal_comfort#Interplay_of_temperature_and_humidity).\n",
    "The dew point is the temperature $T_{d}$ at which air becomes fully saturated with moisture. The dew point can be calculated from the air temperature $T$ (in °C) and the relative humidity $RH$ (in percent) using [empirical approximations](https://en.wikipedia.org/wiki/Heat_index#Formula) [(Lawrence, 2005)](https://doi.org/10.1175/BAMS-86-2-225) summarized in an [Wikipedia article](https://en.wikipedia.org/wiki/Dew_point) about the meteorological dew point:"
   ]
  },
  {
   "cell_type": "markdown",
   "id": "f463bb27-4664-4a66-89ae-d12145a467ce",
   "metadata": {},
   "source": [
    "$$\n",
    "\\begin{align}\n",
    "\\gamma(T,RH) = ln(\\frac{RH} {100})  +  \\frac{b T} {c + T}\\tag{1}\n",
    "\\end{align}\n",
    "$$\n",
    "$$\n",
    "\\begin{align}\n",
    "T_d = \\frac{c \\gamma(T,RH)} {b - \\gamma(T,RH)} \\tag{2}\n",
    "\\end{align}\n",
    "$$"
   ]
  },
  {
   "cell_type": "markdown",
   "id": "3ec39ee0-25f8-480f-9198-df7bab51adc7",
   "metadata": {},
   "source": [
    "where $b = 17.625$ and $c = 243.04$ minimize the maximum deviation over the range −40 °C to +50 °C [(Wikipedia)](https://en.wikipedia.org/wiki/Heat_index#Formula).   \n",
    "\n",
    "**NOTE:** this code uses the [MetPy](https://pypi.org/project/MetPy) library if it is installed and the empirical approximations from above as fallback. The differences in calculated dew point temperatures between the two approaches is generally very small (< 0.1 °C) and can be neglected. "
   ]
  },
  {
   "cell_type": "markdown",
   "id": "d29ad115-df4e-43e3-adf8-e361c95f7525",
   "metadata": {},
   "source": [
    "### Step 1: Load required packages and set up parameters for plotting"
   ]
  },
  {
   "cell_type": "code",
   "execution_count": 1,
   "id": "fd2c7cbb-55c8-4a4f-ade2-166ed51a603c",
   "metadata": {},
   "outputs": [],
   "source": [
    "# import required modules\n",
    "import numpy as np\n",
    "from   matplotlib import cm\n",
    "import matplotlib.pyplot as plt\n",
    "import matplotlib.patheffects as fx\n",
    "\n",
    "# if MetPy is installed use it to calculate the dew point. alternatively, use the empirical approximation from equation (2) above.\n",
    "try:\n",
    "    from metpy.units import units\n",
    "    from metpy.calc  import dewpoint_from_relative_humidity\n",
    "    METHOD = 'METPY'\n",
    "except ImportError:\n",
    "    print(\"To install MetPy see: https://unidata.github.io/MetPy/latest/userguide/installguide.html\")\n",
    "    METHOD = 'EMPIRICAL'\n",
    "\n",
    "# set font size for all plots\n",
    "font_size = 20\n",
    "plt.rcParams['xtick.labelsize'] = 0.75*font_size\n",
    "plt.rcParams['ytick.labelsize'] = 0.75*font_size\n",
    "\n",
    "# set font to Arial for all objects\n",
    "plt.rc('font',**{'family':'sans-serif','sans-serif':['Arial']})\n",
    "\n",
    "# avoid italics in some older Python™ versions \n",
    "plt.rcParams['mathtext.default'] = 'regular'\n",
    "\n",
    "# set font size for axis labels\n",
    "plt.rcParams['axes.labelsize'] = font_size\n",
    "\n",
    "# increase spacing between axis tick marks and tick labels\n",
    "plt.rcParams['xtick.major.pad']='6'\n",
    "plt.rcParams['ytick.major.pad']='6'"
   ]
  },
  {
   "cell_type": "markdown",
   "id": "3ba46270-6f83-4e56-a17e-579ac11fdc51",
   "metadata": {},
   "source": [
    "### Step 2: Define temperature ranges for human comfort categories"
   ]
  },
  {
   "cell_type": "code",
   "execution_count": 2,
   "id": "5a103675-9a1b-49aa-8b9a-c6a47abf317b",
   "metadata": {},
   "outputs": [],
   "source": [
    "# define temperature ranges for human comfort categories\n",
    "\"\"\"\n",
    "- Below 55°F (13°C): The air feels dry and comfortable.\n",
    "- 55–60°F (13–16°C): Still fairly pleasant for most people.\n",
    "- 60–65°F (16–18°C): Starting to feel a bit muggy.\n",
    "- 65–70°F (18–21°C): Uncomfortable for many—sweat doesn’t evaporate easily.\n",
    "- Above 70°F (21°C): Oppressive. The air feels heavy, sticky, and it’s hard for your body to cool down.\n",
    "\"\"\"\n",
    "categories_celsius    = ['<13°C','13-16°C','16-18°C','18-21°C','>21°C']\n",
    "categories_fahrenheit = ['<55°F','55-60°F','60-65°F','65-70°F','>70°F']\n",
    "categories_comfort    = ['comfortable','pleasant','muggy','uncomfortable','oppressive']"
   ]
  },
  {
   "cell_type": "markdown",
   "id": "2b2987bd-aa46-4775-bfb0-f2df63e9eb4d",
   "metadata": {},
   "source": [
    "### Step 3: Helper functions for various calculations"
   ]
  },
  {
   "cell_type": "code",
   "execution_count": 3,
   "id": "8999c195-ef59-4deb-9348-2cd6ed613e4f",
   "metadata": {},
   "outputs": [],
   "source": [
    "# helper functions to convert Celsius to Fahrenheit and vice versa in case MetPy is not installed\n",
    "def C2F(T):\n",
    "    return T*1.8 + 32\n",
    "def F2C(Tf):\n",
    "    return ((Tf - 32) * 5)/9\n",
    "\n",
    "# function for dew point calculation\n",
    "def calc_dew_point(t, rh):\n",
    "    b  = 17.625\n",
    "    c  = 243.04\n",
    "    gamma = np.log(rh/100) + b*t/(c + t) \n",
    "    dp = c*gamma/(b-gamma) # dew point in °C as function of RH in percent and T in °C\n",
    "    return dp"
   ]
  },
  {
   "cell_type": "markdown",
   "id": "5792fdec-63a5-4487-850c-4355d9589f2d",
   "metadata": {},
   "source": [
    "### Step 4: Calculate dew points over a range of temperatures and relative humidity"
   ]
  },
  {
   "cell_type": "code",
   "execution_count": 4,
   "id": "2dffca21-c225-4089-b41f-36c4372fb31b",
   "metadata": {},
   "outputs": [],
   "source": [
    "# calculate matrix of dew points over a range of temperatures and relative humidity\n",
    "\"\"\"\n",
    "    For Washington, DC, the monthly average relative humidity is:\n",
    "        - June:      68%\n",
    "        - July:      69%\n",
    "        - August:    71% \n",
    "        - September: 72%\n",
    "    Use a range from 40% to 95% to cover daily minima and maxima.\n",
    "\"\"\"\n",
    "\n",
    "t     = np.linspace(0.0,  40.0, num=401)  # temperature from 0°C to 40°C in 0.1°C increments\n",
    "rh    = np.linspace(40.0, 95.0, num=551)  # relative humidity in percent in 0.1% increments\n",
    "T, RH = np.meshgrid(t, rh, indexing='ij') # using matrix indexing (not the default)\n",
    "\n",
    "# calculate dew points over a range of temperatures and relative humidity\n",
    "if METHOD == 'EMPIRICAL':\n",
    "    dp_c = calc_dew_point(T, RH)\n",
    "    dp_f = C2F(dp_c) # convert dew point matrix in Celsius to Fahrenheit\n",
    "elif METHOD == 'METPY':\n",
    "    dp_c = dewpoint_from_relative_humidity(T*units.degC, RH*units.percent)\n",
    "    dp_f = dp_c.to('degF') # convert dew point matrix in Celsius to Fahrenheit"
   ]
  },
  {
   "cell_type": "markdown",
   "id": "90fa0359-1fb5-4e34-966a-a76bd5560bec",
   "metadata": {},
   "source": [
    "### Step 5: Set parameters for contour plotting "
   ]
  },
  {
   "cell_type": "code",
   "execution_count": 6,
   "id": "43d2f9e3-7438-4fa7-9649-16bbd2625ec0",
   "metadata": {},
   "outputs": [],
   "source": [
    "# dew point in Celsius\n",
    "norm_c   = cm.colors.Normalize(vmin=-12.5, vmax=41)\n",
    "cmap_c   = cm.plasma\n",
    "levels_c = np.arange(-12.0, 42.0, 2.0)\n",
    "\n",
    "# dew points in Fahrenheit\n",
    "norm_f   = cm.colors.Normalize(vmin=10, vmax=110)\n",
    "cmap_f   = cm.YlGnBu_r\n",
    "levels_f = np.arange(10, 110, 5)"
   ]
  },
  {
   "cell_type": "markdown",
   "id": "29168f65-a6ed-46ed-8c08-7a4544cd0568",
   "metadata": {},
   "source": [
    "## Step 6: Plot dew point as a function of temperature and relative humidity with comfort categories"
   ]
  },
  {
   "cell_type": "code",
   "execution_count": null,
   "id": "7b50547f-87f6-4c75-9b5d-7f908a583e9c",
   "metadata": {},
   "outputs": [],
   "source": [
    "fig, (ax1,ax2) = plt.subplots(1, 2, squeeze=True, sharey = False, figsize = (20,8.5), tight_layout = True)\n",
    "\n",
    "# left panel - dew point in Celsius\n",
    "im1 = ax1.contourf(T, RH, dp_c,levels_c,norm=norm_c, cmap=cmap_c.resampled(len(levels_c)))\n",
    "fig.colorbar(im1, ax=ax1, label='Dew Point [°C]')\n",
    "ax1.set_xlabel('Air Temperature [°C]',fontsize = font_size, labelpad=10)\n",
    "ax1.set_ylabel('Relative Humidity [%]',fontsize = font_size, labelpad=10)\n",
    "secax_x = ax1.secondary_xaxis('top', functions=(C2F, F2C))\n",
    "secax_x.set_xlabel('Air Temperature [°F]',fontsize = font_size, labelpad=10)\n",
    "ax1.grid(True)\n",
    "\n",
    "# right panel - dew point in Fahrenheit\n",
    "im2 = ax2.contourf(T, RH, dp_f,levels_f,norm=norm_f, cmap=cmap_f.resampled(len(levels_f)))\n",
    "fig.colorbar(im2, ax=ax2, label='Dew Point [°F]') #, shrink = 0.185)\n",
    "ax2.set_xlabel('Air Temperature [°C]',fontsize = font_size, labelpad=10)\n",
    "ax2.set_ylabel('Relative Humidity [%]',fontsize = font_size, labelpad=10)\n",
    "secax_x = ax2.secondary_xaxis('top', functions=(C2F, F2C))\n",
    "secax_x.set_xlabel('Air Temperature [°F]',fontsize = font_size, labelpad=10)\n",
    "ax2.grid(True)\n",
    "\n",
    "# add comfort level in both panels\n",
    "rh_start = 41.250\n",
    "rh_incrm = 2.50\n",
    "for i in range(len(categories_celsius)):\n",
    "    ax1.text(4.5,rh_start + i*rh_incrm,categories_celsius[i],   ha=\"right\",va='center',color = 'w', fontsize = 0.75*font_size, fontweight = 'bold')\n",
    "    ax1.text(5.5,rh_start + i*rh_incrm,categories_comfort[i],   ha=\"left\", va='center',color = 'w', fontsize = 0.75*font_size, fontweight = 'bold')\n",
    "    ax2.text(4.5,rh_start + i*rh_incrm,categories_fahrenheit[i],ha=\"right\",va='center',color = 'w', fontsize = 0.75*font_size, fontweight = 'bold')\n",
    "    ax2.text(5.5,rh_start + i*rh_incrm,categories_comfort[i],   ha=\"left\", va='center',color = 'w', fontsize = 0.75*font_size, fontweight = 'bold')\n",
    "    \n",
    "# plot contours with custom labels for comfort levels    \n",
    "def fmt_c(x):\n",
    "    s = f\"{x:.1f}\"\n",
    "    if s.endswith(\"0\"):\n",
    "        s = f\"{x:.0f}\"\n",
    "    return rf\"{s} \\%\" if plt.rcParams[\"text.usetex\"] else f\"{s}°C\"\n",
    "    \n",
    "def fmt_f(x):\n",
    "    s = f\"{x:.1f}\"\n",
    "    if s.endswith(\"0\"):\n",
    "        s = f\"{x:.0f}\"\n",
    "    return rf\"{s} \\%\" if plt.rcParams[\"text.usetex\"] else f\"{s}°F\"\n",
    "\n",
    "# plot contours of interest for human comfort level\n",
    "CS1 = ax1.contour(T, RH, dp_c,colors='k',levels = [13,16,18,21])\n",
    "ax1.clabel(CS1, CS1.levels, fmt=fmt_c, fontsize=0.75*font_size, inline_spacing=8)    \n",
    "\n",
    "CS2 = ax2.contour(T, RH, dp_f,colors='k',levels = [55,60,65,70])\n",
    "ax2.clabel(CS2, CS2.levels, fmt=fmt_f, fontsize=0.75*font_size, inline_spacing=8) \n",
    "\n",
    "# plot panel \"titles\"\n",
    "h1 = ax1.text(7.5,55,\"Dew Point [°C]\",ha=\"center\",va='center',color = 'k', fontsize = 1.25*font_size, fontweight = 'bold')\n",
    "h1.set_path_effects([fx.Stroke(linewidth=2.0, foreground='1.0'),fx.Normal()])\n",
    "h2 = ax2.text(7.5,55,\"Dew Point [°F]\",ha=\"center\",va='center',color = 'k', fontsize = 1.25*font_size, fontweight = 'bold')\n",
    "h2.set_path_effects([fx.Stroke(linewidth=2.0, foreground='1.0'),fx.Normal()])     "
   ]
  },
  {
   "cell_type": "markdown",
   "id": "cdea67de-62da-46b2-bd64-6e97077cf0a0",
   "metadata": {},
   "source": [
    "### References\n",
    "- Dew point: https://en.wikipedia.org/wiki/Dew_point\n",
    "- Lawrence, M. G.: The Relationship between Relative Humidity and the Dewpoint Temperature in Moist Air: A Simple Conversion and Applications, Bull. Amer. Meteor. Soc., 86, 225–234, https://doi.org/10.1175/BAMS-86-2-225, 2005."
   ]
  }
 ],
 "metadata": {
  "kernelspec": {
   "display_name": "geo",
   "language": "python",
   "name": "geo"
  },
  "language_info": {
   "codemirror_mode": {
    "name": "ipython",
    "version": 3
   },
   "file_extension": ".py",
   "mimetype": "text/x-python",
   "name": "python",
   "nbconvert_exporter": "python",
   "pygments_lexer": "ipython3",
   "version": "3.12.3"
  }
 },
 "nbformat": 4,
 "nbformat_minor": 5
}
